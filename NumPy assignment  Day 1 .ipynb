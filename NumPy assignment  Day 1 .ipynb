{
 "cells": [
  {
   "cell_type": "markdown",
   "id": "fca45162",
   "metadata": {},
   "source": [
    "#Define numpy:\n",
    "Numpy is python library pakage Numpy is a general-purpose array-processing package. \n",
    "It provides a high-performance multidimensional array object, and tools for working with these arrays."
   ]
  },
  {
   "cell_type": "code",
   "execution_count": 20,
   "id": "a8fd1dc0",
   "metadata": {},
   "outputs": [
    {
     "name": "stdout",
     "output_type": "stream",
     "text": [
      "[1 2 3]\n",
      "[[1 2 3]\n",
      " [4 5 6]]\n",
      "[[1 2 3]\n",
      " [4 5 6]\n",
      " [7 8 9]]\n",
      "[[ 1.1  1.2  1.3  5. ]\n",
      " [ 3.   4.   5.   5. ]\n",
      " [12.5  6.7  8.9  5. ]\n",
      " [ 7.   8.   9.   5. ]]\n"
     ]
    }
   ],
   "source": [
    "#creating some arrays using numpy\n",
    "import numpy as np\n",
    "x = np.array([1,2,3])#single dimension\n",
    "y = np.array([(1,2,3),(4,5,6)])#2 D dimension \n",
    "z = np.array([(1,2,3),(4,5,6),(7,8,9)])#(3d matrix)\n",
    "n = np.array([(1.1,1.2,1.3),(3,4,5),(12.5,6.7,8.9),(7,8,9)])\n",
    "n = np.array([(1.1,1.2,1.3),(3,4,5),(12.5,6.7,8.9),(7,8,9)],dtype = int)\n",
    "n = np.array([(1.1,1.2,1.3,5),(3,4,5,5),(12.5,6.7,8.9,5),(7,8,9,5)],dtype = float)#ndimension\n",
    "print(x)\n",
    "print(y)\n",
    "print(z)\n",
    "print(n)"
   ]
  },
  {
   "cell_type": "code",
   "execution_count": 10,
   "id": "e1b8f83d",
   "metadata": {},
   "outputs": [
    {
     "name": "stdout",
     "output_type": "stream",
     "text": [
      "[0. 0.] <class 'numpy.ndarray'>\n",
      "[1]\n",
      "[[[[1. 1. 1. 1. 1. 1. 1. 1.]\n",
      "   [1. 1. 1. 1. 1. 1. 1. 1.]\n",
      "   [1. 1. 1. 1. 1. 1. 1. 1.]\n",
      "   [1. 1. 1. 1. 1. 1. 1. 1.]]\n",
      "\n",
      "  [[1. 1. 1. 1. 1. 1. 1. 1.]\n",
      "   [1. 1. 1. 1. 1. 1. 1. 1.]\n",
      "   [1. 1. 1. 1. 1. 1. 1. 1.]\n",
      "   [1. 1. 1. 1. 1. 1. 1. 1.]]]\n",
      "\n",
      "\n",
      " [[[1. 1. 1. 1. 1. 1. 1. 1.]\n",
      "   [1. 1. 1. 1. 1. 1. 1. 1.]\n",
      "   [1. 1. 1. 1. 1. 1. 1. 1.]\n",
      "   [1. 1. 1. 1. 1. 1. 1. 1.]]\n",
      "\n",
      "  [[1. 1. 1. 1. 1. 1. 1. 1.]\n",
      "   [1. 1. 1. 1. 1. 1. 1. 1.]\n",
      "   [1. 1. 1. 1. 1. 1. 1. 1.]\n",
      "   [1. 1. 1. 1. 1. 1. 1. 1.]]]]\n",
      "[[1. 1. 1. 1.]\n",
      " [1. 1. 1. 1.]\n",
      " [1. 1. 1. 1.]] <class 'numpy.ndarray'>\n"
     ]
    }
   ],
   "source": [
    "\n",
    "import numpy as sai\n",
    "x = sai.zeros(2,dtype =float)\n",
    "print(x,type(x))\n",
    "y = sai.ones(1,dtype=int)\n",
    "z = sai.ones((2,2,4,8),dtype = float)#(no of shapes,no of dimensions,no of rows ,no of coulmns)\n",
    "m = sai.ones((3,4),dtype = float)#nof rows,no of columns\n",
    "n =sai.ones\n",
    "print(y)\n",
    "print(z)\n",
    "print(m,type(m))\n"
   ]
  },
  {
   "cell_type": "code",
   "execution_count": 26,
   "id": "119f1b3e",
   "metadata": {},
   "outputs": [
    {
     "name": "stdout",
     "output_type": "stream",
     "text": [
      "[[[0.]\n",
      "  [0.]\n",
      "  [0.]\n",
      "  [0.]\n",
      "  [0.]\n",
      "  [0.]]\n",
      "\n",
      " [[0.]\n",
      "  [0.]\n",
      "  [0.]\n",
      "  [0.]\n",
      "  [0.]\n",
      "  [0.]]\n",
      "\n",
      " [[0.]\n",
      "  [0.]\n",
      "  [0.]\n",
      "  [0.]\n",
      "  [0.]\n",
      "  [0.]]\n",
      "\n",
      " [[0.]\n",
      "  [0.]\n",
      "  [0.]\n",
      "  [0.]\n",
      "  [0.]\n",
      "  [0.]]\n",
      "\n",
      " [[0.]\n",
      "  [0.]\n",
      "  [0.]\n",
      "  [0.]\n",
      "  [0.]\n",
      "  [0.]]\n",
      "\n",
      " [[0.]\n",
      "  [0.]\n",
      "  [0.]\n",
      "  [0.]\n",
      "  [0.]\n",
      "  [0.]]]\n",
      "[[[0. 0. 0. 0. 0. 0.]\n",
      "  [0. 0. 0. 0. 0. 0.]\n",
      "  [0. 0. 0. 0. 0. 0.]\n",
      "  [0. 0. 0. 0. 0. 0.]\n",
      "  [0. 0. 0. 0. 0. 0.]\n",
      "  [0. 0. 0. 0. 0. 0.]]\n",
      "\n",
      " [[0. 0. 0. 0. 0. 0.]\n",
      "  [0. 0. 0. 0. 0. 0.]\n",
      "  [0. 0. 0. 0. 0. 0.]\n",
      "  [0. 0. 0. 0. 0. 0.]\n",
      "  [0. 0. 0. 0. 0. 0.]\n",
      "  [0. 0. 0. 0. 0. 0.]]\n",
      "\n",
      " [[0. 0. 0. 0. 0. 0.]\n",
      "  [0. 0. 0. 0. 0. 0.]\n",
      "  [0. 0. 0. 0. 0. 0.]\n",
      "  [0. 0. 0. 0. 0. 0.]\n",
      "  [0. 0. 0. 0. 0. 0.]\n",
      "  [0. 0. 0. 0. 0. 0.]]\n",
      "\n",
      " [[0. 0. 0. 0. 0. 0.]\n",
      "  [0. 0. 0. 0. 0. 0.]\n",
      "  [0. 0. 0. 0. 0. 0.]\n",
      "  [0. 0. 0. 0. 0. 0.]\n",
      "  [0. 0. 0. 0. 0. 0.]\n",
      "  [0. 0. 0. 0. 0. 0.]]\n",
      "\n",
      " [[0. 0. 0. 0. 0. 0.]\n",
      "  [0. 0. 0. 0. 0. 0.]\n",
      "  [0. 0. 0. 0. 0. 0.]\n",
      "  [0. 0. 0. 0. 0. 0.]\n",
      "  [0. 0. 0. 0. 0. 0.]\n",
      "  [0. 0. 0. 0. 0. 0.]]\n",
      "\n",
      " [[0. 0. 0. 0. 0. 0.]\n",
      "  [0. 0. 0. 0. 0. 0.]\n",
      "  [0. 0. 0. 0. 0. 0.]\n",
      "  [0. 0. 0. 0. 0. 0.]\n",
      "  [0. 0. 0. 0. 0. 0.]\n",
      "  [0. 0. 0. 0. 0. 0.]]]\n"
     ]
    }
   ],
   "source": [
    "#generating the 6by 6 matrix using 3d array\n",
    "import numpy as sai\n",
    "y = sai.zeros((6,6,6))\n",
    "z = y[:,:,1]\n",
    "print(x)\n",
    "print(y)"
   ]
  },
  {
   "cell_type": "code",
   "execution_count": 74,
   "id": "2ea4a700",
   "metadata": {},
   "outputs": [
    {
     "name": "stdout",
     "output_type": "stream",
     "text": [
      "[0 0 0 0]\n",
      "[[0 0 0 0 0 0]]\n",
      "[[[0 0 0]\n",
      "  [0 0 0]]]\n",
      "[1 1 1 1]\n",
      "[[1 1 1 1 1 1]]\n",
      "[[[1 1 1]\n",
      "  [1 1 1]]]\n"
     ]
    }
   ],
   "source": [
    "#printing the 0s and 1s in 1d, 2d,3d\n",
    "import numpy as np\n",
    "a = np.zeros(4,dtype = int)#1d array with 0's\n",
    "print(a)\n",
    "b = np.zeros((1,6),dtype = int)\n",
    "print(b)\n",
    "c = np.zeros((1,2,3),dtype = int)\n",
    "print(c)\n",
    "a = np.ones(4,dtype = int)#1d array with 1's\n",
    "print(a)\n",
    "b = np.ones((1,6),dtype = int)#2d array with 1's\n",
    "print(b)\n",
    "c = np.ones((1,2,3),dtype = int)#3d array with 1's\n",
    "print(c)\n",
    "\n"
   ]
  },
  {
   "cell_type": "code",
   "execution_count": 132,
   "id": "98d67a57",
   "metadata": {},
   "outputs": [
    {
     "name": "stdout",
     "output_type": "stream",
     "text": [
      "[ 0  2  4  6  8 10]\n",
      "[  0   2   4   6   8  10  12  14  16  18  20  22  24  26  28  30  32  34\n",
      "  36  38  40  42  44  46  48  50  52  54  56  58  60  62  64  66  68  70\n",
      "  72  74  76  78  80  82  84  86  88  90  92  94  96  98 100 102 104 106\n",
      " 108 110 112 114 116 118]\n",
      "[[ 0  2  4]\n",
      " [ 6  8 10]]\n",
      "[[[ 0  1  2  3]\n",
      "  [ 4  5  6  7]\n",
      "  [ 8  9 10 11]]\n",
      "\n",
      " [[12 13 14 15]\n",
      "  [16 17 18 19]\n",
      "  [20 21 22 23]]]\n"
     ]
    }
   ],
   "source": [
    "#Evenly spaced\n",
    "import numpy as np\n",
    "x = np.arange(0,11,2)\n",
    "print(x)\n",
    "y = np.arange(0,120, 2)\n",
    "print(y)\n",
    "#Evenly spaced with 2d array\n",
    "\n",
    "p = np.arange(0,11,2).reshape(2,3)\n",
    "print(p)\n",
    "\n",
    "#Evenly spaced with 3d array\n",
    "q = np.arange(0,11,2).reshape(2,3)\n",
    "print(q)"
   ]
  },
  {
   "cell_type": "code",
   "execution_count": 135,
   "id": "5e0df535",
   "metadata": {},
   "outputs": [
    {
     "name": "stdout",
     "output_type": "stream",
     "text": [
      "[ 1  3  5  7  9 11 13 15 17 19]\n",
      "[  1   3   5   7   9  11  13  15  17  19  21  23  25  27  29  31  33  35\n",
      "  37  39  41  43  45  47  49  51  53  55  57  59  61  63  65  67  69  71\n",
      "  73  75  77  79  81  83  85  87  89  91  93  95  97  99 101 103 105 107\n",
      " 109 111 113 115 117 119]\n",
      "[[ 1  3  5  7]\n",
      " [ 9 11 13 15]\n",
      " [17 19 21 23]]\n"
     ]
    }
   ],
   "source": [
    "#odd Spaced\n",
    "import numpy as np\n",
    "x = np.arange(1,21,2)\n",
    "print(x)\n",
    "n = np.arange(1,120,2)   #1d array\n",
    "print(n)\n",
    "\n",
    "#Odd spaced in 2d\n",
    "\n",
    "i = np.arange(1,25,2).reshape(3,4)\n",
    "print(i)\n"
   ]
  },
  {
   "cell_type": "code",
   "execution_count": 143,
   "id": "2d354eed",
   "metadata": {},
   "outputs": [
    {
     "name": "stdout",
     "output_type": "stream",
     "text": [
      "[ 0  3  6  9 12 15 18 21]\n",
      "[[ 0  3  6  9]\n",
      " [12 15 18 21]]\n",
      "[[[ 0  1  2  3]\n",
      "  [ 4  5  6  7]\n",
      "  [ 8  9 10 11]]\n",
      "\n",
      " [[12 13 14 15]\n",
      "  [16 17 18 19]\n",
      "  [20 21 22 23]]]\n"
     ]
    }
   ],
   "source": [
    "#combination of evenly spaced and odd spaced\n",
    "import numpy as np\n",
    "x = np.arange(0,23,3)\n",
    "print(x)\n",
    "\n",
    "#combination of evenly and odd spaced values\n",
    "y = np.arange(0,23,3).reshape(2,4)\n",
    "print(y)\n",
    "#combination of evenly and odd spaced values\n",
    "\n",
    "q  = np.arange(0,24,1).reshape(2,3,4)\n",
    "print(q)"
   ]
  },
  {
   "cell_type": "code",
   "execution_count": null,
   "id": "0a13f80d",
   "metadata": {},
   "outputs": [],
   "source": []
  }
 ],
 "metadata": {
  "kernelspec": {
   "display_name": "Python 3 (ipykernel)",
   "language": "python",
   "name": "python3"
  },
  "language_info": {
   "codemirror_mode": {
    "name": "ipython",
    "version": 3
   },
   "file_extension": ".py",
   "mimetype": "text/x-python",
   "name": "python",
   "nbconvert_exporter": "python",
   "pygments_lexer": "ipython3",
   "version": "3.11.4"
  }
 },
 "nbformat": 4,
 "nbformat_minor": 5
}
